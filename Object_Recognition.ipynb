{
  "nbformat": 4,
  "nbformat_minor": 0,
  "metadata": {
    "colab": {
      "provenance": [],
      "gpuType": "T4"
    },
    "kernelspec": {
      "name": "python3",
      "display_name": "Python 3"
    },
    "language_info": {
      "name": "python"
    },
    "accelerator": "GPU"
  },
  "cells": [
    {
      "cell_type": "markdown",
      "source": [
        "# Traditional Object Recognition"
      ],
      "metadata": {
        "id": "ILpRPjcTRF1c"
      }
    },
    {
      "cell_type": "markdown",
      "source": [
        "Load and preprocess the MNIST dataset"
      ],
      "metadata": {
        "id": "5yBNtPS8RNUj"
      }
    },
    {
      "cell_type": "code",
      "source": [
        "import numpy as np\n",
        "import matplotlib.pyplot as plt\n",
        "import cv2\n",
        "from sklearn.model_selection import train_test_split\n",
        "from sklearn.neighbors import KNeighborsClassifier\n",
        "from tensorflow.keras.datasets import mnist\n",
        "\n",
        "# Load MNIST dataset\n",
        "(x_train, y_train), (x_test, y_test) = mnist.load_data()"
      ],
      "metadata": {
        "id": "QdU0gtxP9zOv",
        "colab": {
          "base_uri": "https://localhost:8080/"
        },
        "outputId": "460064c4-c415-4643-ecd5-8fa2e523f003"
      },
      "execution_count": 1,
      "outputs": [
        {
          "output_type": "stream",
          "name": "stdout",
          "text": [
            "Downloading data from https://storage.googleapis.com/tensorflow/tf-keras-datasets/mnist.npz\n",
            "\u001b[1m11490434/11490434\u001b[0m \u001b[32m━━━━━━━━━━━━━━━━━━━━\u001b[0m\u001b[37m\u001b[0m \u001b[1m1s\u001b[0m 0us/step\n"
          ]
        }
      ]
    },
    {
      "cell_type": "markdown",
      "source": [
        "Display 10 random samples from the training dataset\n"
      ],
      "metadata": {
        "id": "ya5mt-Qw_Wdg"
      }
    },
    {
      "cell_type": "code",
      "source": [
        "num_samples = 10\n",
        "random_indices = np.random.choice(len(x_train), num_samples, replace=False)\n",
        "\n",
        "plt.figure(figsize=(10, 1))\n",
        "for i, idx in enumerate(random_indices):\n",
        "    plt.subplot(1, num_samples, i + 1)\n",
        "    plt.imshow(x_train[idx], cmap='gray')\n",
        "    plt.title(f\"Label: {y_train[idx]}\")\n",
        "    plt.axis('off')\n",
        "\n",
        "plt.tight_layout()\n",
        "plt.show()"
      ],
      "metadata": {
        "colab": {
          "base_uri": "https://localhost:8080/",
          "height": 112
        },
        "id": "5UFH4EO9_Vu8",
        "outputId": "6194ffc5-bece-4938-b0d9-9ef018f582de"
      },
      "execution_count": 3,
      "outputs": [
        {
          "output_type": "display_data",
          "data": {
            "text/plain": [
              "<Figure size 1000x100 with 10 Axes>"
            ],
            "image/png": "[encoded data removed]"
          },
          "metadata": {}
        }
      ]
    },
    {
      "cell_type": "markdown",
      "source": [
        "Preprocess data: Flatten images and normalize"
      ],
      "metadata": {
        "id": "gQYtxNf7RTGG"
      }
    },
    {
      "cell_type": "code",
      "source": [
        "x = np.concatenate((x_train, x_test), axis=0)\n",
        "y = np.concatenate((y_train, y_test), axis=0)\n",
        "\n",
        "x = x.reshape(-1, 28 * 28).astype(np.float32) / 255.0  # Flatten and normalize\n",
        "y = y.astype(np.int32)\n"
      ],
      "metadata": {
        "id": "41Z2MAie-yKS"
      },
      "execution_count": 4,
      "outputs": []
    },
    {
      "cell_type": "markdown",
      "source": [
        "Split into training and testing datasets"
      ],
      "metadata": {
        "id": "xqCFB76tOHAe"
      }
    },
    {
      "cell_type": "code",
      "source": [
        "x_train, x_test, y_train, y_test = train_test_split(x, y, test_size=0.2, random_state=42)"
      ],
      "metadata": {
        "id": "LHujQ5_ROEnW"
      },
      "execution_count": 5,
      "outputs": []
    },
    {
      "cell_type": "markdown",
      "source": [
        "Train the KNN model\n"
      ],
      "metadata": {
        "id": "zDpXdrByRXXR"
      }
    },
    {
      "cell_type": "code",
      "source": [
        "knn = KNeighborsClassifier(n_neighbors=5)\n",
        "knn.fit(x_train, y_train)\n",
        "accuracy = knn.score(x_test, y_test)\n",
        "print(f\"Accuracy: {accuracy * 100:.2f}%\")"
      ],
      "metadata": {
        "colab": {
          "base_uri": "https://localhost:8080/"
        },
        "id": "9ZywWJwF_Cj9",
        "outputId": "644527f3-08ba-4dda-95b4-d95f6c9c845a"
      },
      "execution_count": 6,
      "outputs": [
        {
          "output_type": "stream",
          "name": "stdout",
          "text": [
            "Accuracy: 97.01%\n"
          ]
        }
      ]
    },
    {
      "cell_type": "markdown",
      "source": [
        "Test the model\n"
      ],
      "metadata": {
        "id": "I6rsJ2f1RZGK"
      }
    },
    {
      "cell_type": "code",
      "source": [
        "# Load the license plate image\n",
        "image = cv2.imread(\"license_plate.jpg\")\n",
        "\n",
        "# Convert to grayscale\n",
        "gray_image = cv2.cvtColor(image, cv2.COLOR_BGR2GRAY)\n",
        "\n",
        "# # Invert the colors\n",
        "inverted_image = cv2.bitwise_not(gray_image)\n",
        "\n",
        "# Define the coordinates of the 4-digit region\n",
        "x, y, w, h = 2290, 255, 2150, 880\n",
        "digit_region = inverted_image[y:y+h, x:x+w]\n",
        "\n",
        "# Resize the region to a fixed size for consistent splitting\n",
        "digit_region_resized = cv2.resize(digit_region, (112, 28))\n",
        "\n",
        "# Split the region into 4 equal parts\n",
        "digits = np.hsplit(digit_region_resized, 4)\n",
        "# Display each digit (for debugging)\n",
        "for i, digit in enumerate(digits):\n",
        "    plt.imshow(digit, cmap='gray')\n",
        "    plt.show()\n",
        "# Classify the digit\n",
        "digits = np.array(digits).reshape(-1, 784).astype(np.float32)\n",
        "print(knn.predict(digits))\n",
        "\n"
      ],
      "metadata": {
        "colab": {
          "base_uri": "https://localhost:8080/",
          "height": 1000
        },
        "id": "QSt9EhrXD2FW",
        "outputId": "c2beb955-9a02-4048-977d-0bce5dea0565"
      },
      "execution_count": 7,
      "outputs": [
        {
          "output_type": "display_data",
          "data": {
            "text/plain": [
              "<Figure size 640x480 with 1 Axes>"
            ],
            "image/png": "[encoded data removed]"
          },
          "metadata": {}
        },
        {
          "output_type": "display_data",
          "data": {
            "text/plain": [
              "<Figure size 640x480 with 1 Axes>"
            ],
            "image/png": "[encoded data removed]"
          },
          "metadata": {}
        },
        {
          "output_type": "display_data",
          "data": {
            "text/plain": [
              "<Figure size 640x480 with 1 Axes>"
            ],
            "image/png": "[encoded data removed]"
          },
          "metadata": {}
        },
        {
          "output_type": "display_data",
          "data": {
            "text/plain": [
              "<Figure size 640x480 with 1 Axes>"
            ],
            "image/png": "[encoded data removed]"
          },
          "metadata": {}
        },
        {
          "output_type": "stream",
          "name": "stdout",
          "text": [
            "[2 0 0 0]\n"
          ]
        }
      ]
    },
    {
      "cell_type": "markdown",
      "source": [
        "# Deep Learning Object Recognition"
      ],
      "metadata": {
        "id": "vzBe6T4VBqny"
      }
    },
    {
      "cell_type": "code",
      "source": [
        "import torch\n",
        "import torchvision\n",
        "import torch.nn as nn\n",
        "import torch.optim as optim\n",
        "import torchvision.transforms as transforms\n",
        "from torch.utils.data import DataLoader\n",
        "import matplotlib.pyplot as plt\n",
        "import numpy as np\n",
        "from PIL import Image\n",
        "import cv2"
      ],
      "metadata": {
        "id": "Qpbs2ipMBtEG"
      },
      "execution_count": 8,
      "outputs": []
    },
    {
      "cell_type": "markdown",
      "source": [
        "Define the CNN architecture"
      ],
      "metadata": {
        "id": "nZMzBDxUKc1p"
      }
    },
    {
      "cell_type": "code",
      "source": [
        "class SimpleCNN(nn.Module):\n",
        "    def __init__(self):\n",
        "        super(SimpleCNN, self).__init__()\n",
        "        # First convolutional layer: Input 1 channel, output 32 channels, kernel size 3x3\n",
        "        self.conv1 = nn.Conv2d(1, 32, kernel_size=3, padding=1)\n",
        "        self.pool = nn.MaxPool2d(2, 2)  # Max pooling with 2x2 window\n",
        "        # Second convolutional layer: Input 32 channels, output 64 channels, kernel size 3x3\n",
        "        self.conv2 = nn.Conv2d(32, 64, kernel_size=3, padding=1)\n",
        "        # Third convolutional layer: Input 64 channels, output 128 channels, kernel size 3x3\n",
        "        self.conv3 = nn.Conv2d(64, 128, kernel_size=3, padding=1)\n",
        "\n",
        "        # Fully connected layers\n",
        "        self.fc1 = nn.Linear(128 * 3 * 3, 512)  # Input size after flattening\n",
        "        self.fc2 = nn.Linear(512, 10)  # Output 10 classes for MNIST\n",
        "\n",
        "    def forward(self, x):\n",
        "        x = self.pool(torch.relu(self.conv1(x)))  # Apply conv1 and pooling\n",
        "        x = self.pool(torch.relu(self.conv2(x)))  # Apply conv2 and pooling\n",
        "        x = self.pool(torch.relu(self.conv3(x)))  # Apply conv3 and pooling\n",
        "        x = x.view(-1, 128 * 3 * 3)  # Flatten the output for fully connected layers\n",
        "        x = torch.relu(self.fc1(x))  # Apply the first fully connected layer\n",
        "        x = self.fc2(x)  # Apply the second fully connected layer (output)\n",
        "        return x"
      ],
      "metadata": {
        "id": "WGE_ZXLqKaWu"
      },
      "execution_count": 9,
      "outputs": []
    },
    {
      "cell_type": "markdown",
      "source": [
        "Load MNIST Dataset\n"
      ],
      "metadata": {
        "id": "0Yv5pamowvfh"
      }
    },
    {
      "cell_type": "code",
      "source": [
        "def load_mnist_data(batch_size=64):\n",
        "    # Define data augmentation transforms for the training set\n",
        "    train_transform = transforms.Compose([\n",
        "        transforms.RandomRotation(degrees=15),  # Randomly rotate the image by ±15 degrees\n",
        "        transforms.RandomAffine(degrees=0, translate=(0.1, 0.1)),  # Randomly translate up to 10% of the image size\n",
        "        transforms.RandomPerspective(distortion_scale=0.2, p=0.5),  # Apply random perspective transformations\n",
        "        transforms.ToTensor(),  # Convert PIL image to Tensor\n",
        "        transforms.Normalize((0.5,), (0.5,))  # Normalize to mean=0.5, std=0.5\n",
        "    ])\n",
        "\n",
        "    # Transform for the test set (no augmentation)\n",
        "    test_transform = transforms.Compose([\n",
        "        transforms.ToTensor(),\n",
        "        transforms.Normalize((0.5,), (0.5,))\n",
        "    ])\n",
        "\n",
        "    # Load datasets\n",
        "    trainset = torchvision.datasets.MNIST(root='./data', train=True, download=True, transform=train_transform)\n",
        "    trainloader = DataLoader(trainset, batch_size=batch_size, shuffle=True)\n",
        "\n",
        "    testset = torchvision.datasets.MNIST(root='./data', train=False, download=True, transform=test_transform)\n",
        "    testloader = DataLoader(testset, batch_size=batch_size, shuffle=False)\n",
        "\n",
        "    return trainloader, testloader\n"
      ],
      "metadata": {
        "id": "LGi3B10gBwZB"
      },
      "execution_count": 10,
      "outputs": []
    },
    {
      "cell_type": "markdown",
      "source": [
        "Train the Model\n"
      ],
      "metadata": {
        "id": "jOKwA_cww568"
      }
    },
    {
      "cell_type": "code",
      "source": [
        "def train_model(model, trainloader, criterion, optimizer, device, num_epochs=5):\n",
        "    model.train()\n",
        "    for epoch in range(num_epochs):\n",
        "        running_loss = 0.0\n",
        "        for images, labels in trainloader:\n",
        "            images, labels = images.to(device), labels.to(device)\n",
        "\n",
        "            optimizer.zero_grad()\n",
        "            outputs = model(images)\n",
        "            loss = criterion(outputs, labels)\n",
        "            loss.backward()\n",
        "            optimizer.step()\n",
        "\n",
        "            running_loss += loss.item()\n",
        "        print(f\"Epoch {epoch+1}, Loss: {running_loss/len(trainloader):.4f}\")"
      ],
      "metadata": {
        "id": "vEWi63QiByK_"
      },
      "execution_count": 11,
      "outputs": []
    },
    {
      "cell_type": "markdown",
      "source": [
        "Test the Model\n"
      ],
      "metadata": {
        "id": "jQ-piXaCxTXy"
      }
    },
    {
      "cell_type": "code",
      "source": [
        "def test_model(model, testloader, device):\n",
        "    model.eval()\n",
        "    correct, total = 0, 0\n",
        "    with torch.no_grad():\n",
        "        for images, labels in testloader:\n",
        "            images, labels = images.to(device), labels.to(device)\n",
        "            outputs = model(images)\n",
        "            _, predicted = torch.max(outputs, 1)\n",
        "            total += labels.size(0)\n",
        "            correct += (predicted == labels).sum().item()\n",
        "    print(f\"Accuracy: {100 * correct / total:.2f}%\")\n"
      ],
      "metadata": {
        "id": "FvZHEfZhB0ez"
      },
      "execution_count": 12,
      "outputs": []
    },
    {
      "cell_type": "markdown",
      "source": [
        "Predict Digits from a License Plate Image\n"
      ],
      "metadata": {
        "id": "cpEYgTYSxbjN"
      }
    },
    {
      "cell_type": "code",
      "source": [
        "def predict_license_plate(model, device):\n",
        "    model.eval()\n",
        "    transform = transforms.Compose([transforms.ToPILImage(), transforms.Grayscale(), transforms.Resize((28, 28)), transforms.ToTensor()])\n",
        "    gray_image = cv2.imread(\"license_plate.jpg\", cv2.IMREAD_GRAYSCALE)\n",
        "    inverted_image = cv2.bitwise_not(gray_image)\n",
        "    x, y, w, h = 2290, 255, 2150, 880\n",
        "    digit_region = inverted_image[y:y+h, x:x+w]\n",
        "    digit_region_resized = cv2.resize(digit_region, (112, 28))\n",
        "    digits = np.hsplit(digit_region_resized, 4)\n",
        "    for digit in digits:\n",
        "        image = transform(digit).unsqueeze(0).to(device)\n",
        "        with torch.no_grad():\n",
        "            output = model(image)\n",
        "            _, predicted = torch.max(output, 1)\n",
        "            print(f\"Predicted Digit: {predicted.item()}\")\n",
        "\n"
      ],
      "metadata": {
        "id": "wvD6QgE4B134"
      },
      "execution_count": 13,
      "outputs": []
    },
    {
      "cell_type": "code",
      "source": [
        "device = torch.device(\"cuda\" if torch.cuda.is_available() else \"cpu\")\n",
        "print(f\"Using device: {device}\")\n",
        "\n",
        "# Model, Loss, and Optimizer\n",
        "model = SimpleCNN().to(device)\n",
        "criterion = nn.CrossEntropyLoss()\n",
        "optimizer = optim.Adam(model.parameters(), lr=0.001)\n",
        "\n",
        "# Load data\n",
        "trainloader, testloader = load_mnist_data()\n",
        "\n",
        "# Train and Test\n",
        "train_model(model, trainloader, criterion, optimizer, device, num_epochs=10)\n",
        "test_model(model, testloader, device)\n",
        "\n",
        "# Predict digits from license plate images\n",
        "predict_license_plate(model, device)"
      ],
      "metadata": {
        "colab": {
          "base_uri": "https://localhost:8080/"
        },
        "id": "l2uEwA1QGIfi",
        "outputId": "f9d6044a-fbe4-41c6-83ce-9a143f569ee5"
      },
      "execution_count": 14,
      "outputs": [
        {
          "output_type": "stream",
          "name": "stdout",
          "text": [
            "Using device: cuda\n",
            "Downloading http://yann.lecun.com/exdb/mnist/train-images-idx3-ubyte.gz\n",
            "Failed to download (trying next):\n",
            "HTTP Error 404: Not Found\n",
            "\n",
            "Downloading https://ossci-datasets.s3.amazonaws.com/mnist/train-images-idx3-ubyte.gz\n",
            "Downloading https://ossci-datasets.s3.amazonaws.com/mnist/train-images-idx3-ubyte.gz to ./data/MNIST/raw/train-images-idx3-ubyte.gz\n"
          ]
        },
        {
          "output_type": "stream",
          "name": "stderr",
          "text": [
            "100%|██████████| 9.91M/9.91M [00:00<00:00, 11.5MB/s]\n"
          ]
        },
        {
          "output_type": "stream",
          "name": "stdout",
          "text": [
            "Extracting ./data/MNIST/raw/train-images-idx3-ubyte.gz to ./data/MNIST/raw\n",
            "\n",
            "Downloading http://yann.lecun.com/exdb/mnist/train-labels-idx1-ubyte.gz\n",
            "Failed to download (trying next):\n",
            "HTTP Error 404: Not Found\n",
            "\n",
            "Downloading https://ossci-datasets.s3.amazonaws.com/mnist/train-labels-idx1-ubyte.gz\n",
            "Downloading https://ossci-datasets.s3.amazonaws.com/mnist/train-labels-idx1-ubyte.gz to ./data/MNIST/raw/train-labels-idx1-ubyte.gz\n"
          ]
        },
        {
          "output_type": "stream",
          "name": "stderr",
          "text": [
            "100%|██████████| 28.9k/28.9k [00:00<00:00, 345kB/s]\n"
          ]
        },
        {
          "output_type": "stream",
          "name": "stdout",
          "text": [
            "Extracting ./data/MNIST/raw/train-labels-idx1-ubyte.gz to ./data/MNIST/raw\n",
            "\n",
            "Downloading http://yann.lecun.com/exdb/mnist/t10k-images-idx3-ubyte.gz\n",
            "Failed to download (trying next):\n",
            "HTTP Error 404: Not Found\n",
            "\n",
            "Downloading https://ossci-datasets.s3.amazonaws.com/mnist/t10k-images-idx3-ubyte.gz\n",
            "Downloading https://ossci-datasets.s3.amazonaws.com/mnist/t10k-images-idx3-ubyte.gz to ./data/MNIST/raw/t10k-images-idx3-ubyte.gz\n"
          ]
        },
        {
          "output_type": "stream",
          "name": "stderr",
          "text": [
            "100%|██████████| 1.65M/1.65M [00:00<00:00, 3.14MB/s]\n"
          ]
        },
        {
          "output_type": "stream",
          "name": "stdout",
          "text": [
            "Extracting ./data/MNIST/raw/t10k-images-idx3-ubyte.gz to ./data/MNIST/raw\n",
            "\n",
            "Downloading http://yann.lecun.com/exdb/mnist/t10k-labels-idx1-ubyte.gz\n",
            "Failed to download (trying next):\n",
            "HTTP Error 404: Not Found\n",
            "\n",
            "Downloading https://ossci-datasets.s3.amazonaws.com/mnist/t10k-labels-idx1-ubyte.gz\n",
            "Downloading https://ossci-datasets.s3.amazonaws.com/mnist/t10k-labels-idx1-ubyte.gz to ./data/MNIST/raw/t10k-labels-idx1-ubyte.gz\n"
          ]
        },
        {
          "output_type": "stream",
          "name": "stderr",
          "text": [
            "100%|██████████| 4.54k/4.54k [00:00<00:00, 9.09MB/s]\n"
          ]
        },
        {
          "output_type": "stream",
          "name": "stdout",
          "text": [
            "Extracting ./data/MNIST/raw/t10k-labels-idx1-ubyte.gz to ./data/MNIST/raw\n",
            "\n",
            "Epoch 1, Loss: 0.2429\n",
            "Epoch 2, Loss: 0.0784\n",
            "Epoch 3, Loss: 0.0619\n",
            "Epoch 4, Loss: 0.0528\n",
            "Epoch 5, Loss: 0.0497\n",
            "Epoch 6, Loss: 0.0445\n",
            "Epoch 7, Loss: 0.0423\n",
            "Epoch 8, Loss: 0.0377\n",
            "Epoch 9, Loss: 0.0368\n",
            "Epoch 10, Loss: 0.0343\n",
            "Accuracy: 99.32%\n",
            "Predicted Digit: 2\n",
            "Predicted Digit: 0\n",
            "Predicted Digit: 5\n",
            "Predicted Digit: 0\n"
          ]
        }
      ]
    },
    {
      "cell_type": "code",
      "source": [],
      "metadata": {
        "id": "BdNklS6xDTwi"
      },
      "execution_count": null,
      "outputs": []
    }
  ]
}